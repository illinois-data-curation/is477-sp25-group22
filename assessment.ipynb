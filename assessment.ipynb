{
 "cells": [
  {
   "cell_type": "markdown",
   "metadata": {},
   "source": [
    "# Data Profiling & Quality Assessment"
   ]
  },
  {
   "cell_type": "code",
   "execution_count": 2,
   "metadata": {},
   "outputs": [],
   "source": [
    "import pandas as pd\n",
    "import hashlib\n",
    "import pandas"
   ]
  },
  {
   "cell_type": "code",
   "execution_count": 2,
   "metadata": {},
   "outputs": [],
   "source": [
    "divvydf = pd.read_csv(\"combined_2024_divvy_data.csv\")\n",
    "weatherdf = pd.read_json(\"weather_2024.json\")"
   ]
  },
  {
   "cell_type": "code",
   "execution_count": 3,
   "metadata": {},
   "outputs": [
    {
     "data": {
      "text/plain": [
       "5860568"
      ]
     },
     "execution_count": 3,
     "metadata": {},
     "output_type": "execute_result"
    }
   ],
   "source": [
    "len(divvydf)"
   ]
  },
  {
   "cell_type": "code",
   "execution_count": 4,
   "metadata": {},
   "outputs": [
    {
     "data": {
      "text/plain": [
       "366"
      ]
     },
     "execution_count": 4,
     "metadata": {},
     "output_type": "execute_result"
    }
   ],
   "source": [
    "len(weatherdf)"
   ]
  },
  {
   "cell_type": "markdown",
   "metadata": {},
   "source": [
    "**Weather Data Profiling & Quality Assessment**"
   ]
  },
  {
   "cell_type": "code",
   "execution_count": 5,
   "metadata": {},
   "outputs": [],
   "source": [
    "weather_summary_stats = weatherdf.describe()\n",
    "weather_missing_values = weatherdf.isnull().sum()\n",
    "weather_duplicates = weatherdf.duplicated().sum()\n",
    "weather_unique_counts = weatherdf.nunique()\n",
    "weather_data_types = weatherdf.dtypes"
   ]
  },
  {
   "cell_type": "code",
   "execution_count": 6,
   "metadata": {},
   "outputs": [
    {
     "name": "stdout",
     "output_type": "stream",
     "text": [
      "           LATITUDE     LONGITUDE     ELEVATION        PRCP        SNOW  \\\n",
      "count  3.660000e+02  3.660000e+02  3.660000e+02  366.000000  366.000000   \n",
      "mean   4.196017e+01 -8.793164e+01  2.048000e+02    0.095410    0.064481   \n",
      "std    1.921092e-13  4.126789e-13  1.394570e-12    0.229101    0.397658   \n",
      "min    4.196017e+01 -8.793164e+01  2.048000e+02    0.000000    0.000000   \n",
      "25%    4.196017e+01 -8.793164e+01  2.048000e+02    0.000000    0.000000   \n",
      "50%    4.196017e+01 -8.793164e+01  2.048000e+02    0.000000    0.000000   \n",
      "75%    4.196017e+01 -8.793164e+01  2.048000e+02    0.047500    0.000000   \n",
      "max    4.196017e+01 -8.793164e+01  2.048000e+02    1.640000    4.700000   \n",
      "\n",
      "             SNWD        TAVG        TMAX        TMIN  \n",
      "count  366.000000  366.000000  366.000000  366.000000  \n",
      "mean     0.193169   54.926230   63.497268   46.456284  \n",
      "std      0.788814   18.535343   20.118791   17.636730  \n",
      "min      0.000000   -7.000000    2.000000  -10.000000  \n",
      "25%      0.000000   40.000000   47.000000   33.000000  \n",
      "50%      0.000000   58.000000   67.500000   48.000000  \n",
      "75%      0.000000   71.000000   81.000000   61.000000  \n",
      "max      5.100000   88.000000   99.000000   79.000000  \n"
     ]
    }
   ],
   "source": [
    "#Weather Summary Stats\n",
    "print(weather_summary_stats)"
   ]
  },
  {
   "cell_type": "code",
   "execution_count": 7,
   "metadata": {},
   "outputs": [
    {
     "name": "stdout",
     "output_type": "stream",
     "text": [
      "STATION      0\n",
      "NAME         0\n",
      "LATITUDE     0\n",
      "LONGITUDE    0\n",
      "ELEVATION    0\n",
      "DATE         0\n",
      "PRCP         0\n",
      "SNOW         0\n",
      "SNWD         0\n",
      "TAVG         0\n",
      "TMAX         0\n",
      "TMIN         0\n",
      "dtype: int64\n"
     ]
    }
   ],
   "source": [
    "#Weather Missing Value\n",
    "print(weather_missing_values)"
   ]
  },
  {
   "cell_type": "code",
   "execution_count": 8,
   "metadata": {},
   "outputs": [
    {
     "name": "stdout",
     "output_type": "stream",
     "text": [
      "0\n"
     ]
    }
   ],
   "source": [
    "#Weather Duplicates\n",
    "print(weather_duplicates)"
   ]
  },
  {
   "cell_type": "code",
   "execution_count": 9,
   "metadata": {},
   "outputs": [
    {
     "name": "stdout",
     "output_type": "stream",
     "text": [
      "STATION        1\n",
      "NAME           1\n",
      "LATITUDE       1\n",
      "LONGITUDE      1\n",
      "ELEVATION      1\n",
      "DATE         366\n",
      "PRCP          60\n",
      "SNOW          16\n",
      "SNWD           6\n",
      "TAVG          73\n",
      "TMAX          78\n",
      "TMIN          71\n",
      "dtype: int64\n"
     ]
    }
   ],
   "source": [
    "#Weather Unique Counts\n",
    "print(weather_unique_counts)"
   ]
  },
  {
   "cell_type": "code",
   "execution_count": 10,
   "metadata": {},
   "outputs": [
    {
     "name": "stdout",
     "output_type": "stream",
     "text": [
      "STATION              object\n",
      "NAME                 object\n",
      "LATITUDE            float64\n",
      "LONGITUDE           float64\n",
      "ELEVATION           float64\n",
      "DATE         datetime64[ns]\n",
      "PRCP                float64\n",
      "SNOW                float64\n",
      "SNWD                float64\n",
      "TAVG                  int64\n",
      "TMAX                  int64\n",
      "TMIN                  int64\n",
      "dtype: object\n"
     ]
    }
   ],
   "source": [
    "#Weather Data Types\n",
    "print(weather_data_types)"
   ]
  },
  {
   "cell_type": "markdown",
   "metadata": {},
   "source": [
    "**Divvy Data Profiling & Quality Assessment**"
   ]
  },
  {
   "cell_type": "code",
   "execution_count": 11,
   "metadata": {},
   "outputs": [],
   "source": [
    "div_summary_stats = divvydf.describe()\n",
    "div_missing_values = divvydf.isnull().sum()\n",
    "div_duplicates = divvydf.duplicated().sum()\n",
    "div_unique_counts = divvydf.nunique()\n",
    "div_data_types = divvydf.dtypes"
   ]
  },
  {
   "cell_type": "code",
   "execution_count": 12,
   "metadata": {},
   "outputs": [
    {
     "name": "stdout",
     "output_type": "stream",
     "text": [
      "                 ride_id  rideable_type  start_date start_time    end_date  \\\n",
      "count            5860568        5860568     5860568    5860568     5860568   \n",
      "unique           5860357              3         366      86289         366   \n",
      "top     43F5E06516957BF9  electric_bike  2024-09-21   17:11:03  2024-09-21   \n",
      "freq                   2        2980595       34698        226       34764   \n",
      "\n",
      "        end_time  \n",
      "count    5860568  \n",
      "unique     86296  \n",
      "top     17:22:55  \n",
      "freq         216  \n"
     ]
    }
   ],
   "source": [
    "#Basic Summary Statistics\n",
    "print(div_summary_stats)"
   ]
  },
  {
   "cell_type": "code",
   "execution_count": 13,
   "metadata": {},
   "outputs": [
    {
     "name": "stdout",
     "output_type": "stream",
     "text": [
      "ride_id          0\n",
      "rideable_type    0\n",
      "start_date       0\n",
      "start_time       0\n",
      "end_date         0\n",
      "end_time         0\n",
      "dtype: int64\n"
     ]
    }
   ],
   "source": [
    "#Missing Values\n",
    "print(div_missing_values)"
   ]
  },
  {
   "cell_type": "code",
   "execution_count": 14,
   "metadata": {},
   "outputs": [
    {
     "name": "stdout",
     "output_type": "stream",
     "text": [
      "211\n"
     ]
    }
   ],
   "source": [
    "#Duplicates\n",
    "print(div_duplicates)"
   ]
  },
  {
   "cell_type": "code",
   "execution_count": 15,
   "metadata": {},
   "outputs": [
    {
     "name": "stdout",
     "output_type": "stream",
     "text": [
      "ride_id          5860357\n",
      "rideable_type          3\n",
      "start_date           366\n",
      "start_time         86289\n",
      "end_date             366\n",
      "end_time           86296\n",
      "dtype: int64\n"
     ]
    }
   ],
   "source": [
    "#Unique counts within each column\n",
    "print(div_unique_counts)"
   ]
  },
  {
   "cell_type": "code",
   "execution_count": 16,
   "metadata": {},
   "outputs": [
    {
     "name": "stdout",
     "output_type": "stream",
     "text": [
      "ride_id          object\n",
      "rideable_type    object\n",
      "start_date       object\n",
      "start_time       object\n",
      "end_date         object\n",
      "end_time         object\n",
      "dtype: object\n"
     ]
    }
   ],
   "source": [
    "#Unique data types\n",
    "print(div_data_types)"
   ]
  },
  {
   "cell_type": "markdown",
   "metadata": {},
   "source": [
    "**Combined 2024 Divvy Data Cleaning**"
   ]
  },
  {
   "cell_type": "code",
   "execution_count": 17,
   "metadata": {},
   "outputs": [],
   "source": [
    "divvydf = divvydf.drop_duplicates()"
   ]
  },
  {
   "cell_type": "code",
   "execution_count": 18,
   "metadata": {},
   "outputs": [],
   "source": [
    "divvydf.to_csv(\"cleaned_2024_divvy_data.csv\", index=False)"
   ]
  },
  {
   "cell_type": "code",
   "execution_count": 19,
   "metadata": {},
   "outputs": [
    {
     "data": {
      "text/plain": [
       "5860357"
      ]
     },
     "execution_count": 19,
     "metadata": {},
     "output_type": "execute_result"
    }
   ],
   "source": [
    "cleaned_divvydf = pd.read_csv(\"cleaned_2024_divvy_data.csv\")\n",
    "len(cleaned_divvydf)"
   ]
  },
  {
   "cell_type": "code",
   "execution_count": 20,
   "metadata": {},
   "outputs": [
    {
     "name": "stdout",
     "output_type": "stream",
     "text": [
      "0\n"
     ]
    }
   ],
   "source": [
    "c_div_duplicates = cleaned_divvydf.duplicated().sum()\n",
    "print(c_div_duplicates)"
   ]
  },
  {
   "cell_type": "markdown",
   "metadata": {},
   "source": [
    "**Integrity Checks (Hashing - Detect unexpected changes)**\n"
   ]
  },
  {
   "cell_type": "code",
   "execution_count": 21,
   "metadata": {},
   "outputs": [],
   "source": [
    "with open(\"cleaned_2024_divvy_data.csv\", \"rb\") as f:\n",
    "    data = f.read()\n",
    "    sha256hash = hashlib.sha256(data).hexdigest()\n",
    "\n",
    "with open(\"hashes/divvy.sha\", \"w\") as f:\n",
    "    f.write(sha256hash)"
   ]
  },
  {
   "cell_type": "code",
   "execution_count": 22,
   "metadata": {},
   "outputs": [],
   "source": [
    "with open(\"weather_2024.json\", \"rb\") as f:\n",
    "    data = f.read()\n",
    "    sha256hash = hashlib.sha256(data).hexdigest()\n",
    "\n",
    "with open(\"hashes/weather.sha\", \"w\") as f:\n",
    "    f.write(sha256hash)"
   ]
  },
  {
   "cell_type": "code",
   "execution_count": null,
   "metadata": {},
   "outputs": [],
   "source": []
  }
 ],
 "metadata": {
  "kernelspec": {
   "display_name": "Python 3",
   "language": "python",
   "name": "python3"
  },
  "language_info": {
   "codemirror_mode": {
    "name": "ipython",
    "version": 3
   },
   "file_extension": ".py",
   "mimetype": "text/x-python",
   "name": "python",
   "nbconvert_exporter": "python",
   "pygments_lexer": "ipython3",
   "version": "3.12.5"
  }
 },
 "nbformat": 4,
 "nbformat_minor": 2
}
